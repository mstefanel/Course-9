{
    "nbformat_minor": 1, 
    "cells": [
        {
            "source": "# Read Table\n#### 1.\nIt is necessary to import the libraries, then the wikitable is read by BeautifulSoup library\n#### 2.\nEach Row is load to matrix, then turn to a Pandas DataFrame, and clean\n#### Assumptions\nThe three Columns has to be in the same order ['PostalCode', 'Borough',  'Neighborhood']  \n", 
            "cell_type": "markdown", 
            "metadata": {}
        }, 
        {
            "source": "### Import Libraries", 
            "cell_type": "markdown", 
            "metadata": {}
        }, 
        {
            "execution_count": 3, 
            "cell_type": "code", 
            "metadata": {}, 
            "outputs": [
                {
                    "output_type": "stream", 
                    "name": "stdout", 
                    "text": "Libraries imported.\n"
                }
            ], 
            "source": "import numpy as np # library to handle data in a vectorized manner\n\nimport pandas as pd # library for data analsysis\npd.set_option('display.max_columns', None)\npd.set_option('display.max_rows', None)\n\nimport json # library to handle JSON files\n\n#!conda install -c conda-forge geopy --yes # uncomment this line if you haven't completed the Foursquare API lab\nfrom geopy.geocoders import Nominatim # convert an address into latitude and longitude values\n\nimport requests # library to handle requests\nfrom pandas.io.json import json_normalize # tranform JSON file into a pandas dataframe\n\n# Matplotlib and associated plotting modules\nimport matplotlib.cm as cm\nimport matplotlib.colors as colors\n\n# import k-means from clustering stage\nfrom sklearn.cluster import KMeans\n\n#!conda install -c conda-forge folium=0.5.0 --yes\nimport folium # map rendering library\n\nfrom bs4 import BeautifulSoup\n\nprint('Libraries imported.')\n"
        }, 
        {
            "source": "### Read Wikipedia page", 
            "cell_type": "markdown", 
            "metadata": {}
        }, 
        {
            "execution_count": 4, 
            "cell_type": "code", 
            "metadata": {
                "scrolled": true
            }, 
            "outputs": [
                {
                    "execution_count": 4, 
                    "metadata": {}, 
                    "data": {
                        "text/plain": "(103, 3)"
                    }, 
                    "output_type": "execute_result"
                }
            ], 
            "source": "#read the Wikipedia page, https://en.wikipedia.org/wiki/List_of_postal_codes_of_Canada:_M, in order to obtain the data that is in the table of postal codes \nurl = \"https://en.wikipedia.org/wiki/List_of_postal_codes_of_Canada:_M\"\nwebsite_url = requests.get(url).text\nsoup = BeautifulSoup(website_url,'lxml')\ntable = soup.find('table',{'class':'wikitable sortable'})\n\n#Create a frame\nmatrix=[]\nfor tr in table.find_all(\"tr\"):\n    td=tr.find_all('td')\n    matrix.append([x.text.strip() for x in td])\n\n#Convert to a dataFrame\ncolumns = ['PostalCode', 'Borough',  'Neighborhood']\ncanada_data = pd.DataFrame(matrix, columns = columns)\ncanada_data = canada_data[1:]\ncanada_data = canada_data.loc[canada_data[columns[1]] != \"Not assigned\"]\ncanada_data.loc[canada_data[columns[2]] == \"Not assigned\",columns[2]] = canada_data.loc[canada_data[columns[2]]==\"Not assigned\",columns[1]]\ncanada_data = canada_data.groupby([columns[0],columns[1]])[columns[2]].apply(lambda tags: ','.join(tags)).to_frame().reset_index()\ncanada_data.shape"
        }
    ], 
    "metadata": {
        "kernelspec": {
            "display_name": "Python 3.5", 
            "name": "python3", 
            "language": "python"
        }, 
        "language_info": {
            "mimetype": "text/x-python", 
            "nbconvert_exporter": "python", 
            "version": "3.5.5", 
            "name": "python", 
            "file_extension": ".py", 
            "pygments_lexer": "ipython3", 
            "codemirror_mode": {
                "version": 3, 
                "name": "ipython"
            }
        }
    }, 
    "nbformat": 4
}